{
 "cells": [
  {
   "cell_type": "markdown",
   "metadata": {},
   "source": [
    "### iNeuron Python Assignment-4"
   ]
  },
  {
   "cell_type": "markdown",
   "metadata": {},
   "source": [
    "#### 1.1 Write a Python Program(with class concepts) to find the area of the triangle using the below  formula. \n",
    "\n",
    "area = `(s*(s-a)*(s-b)*(s-c)) ** 0.5`\n",
    "\n",
    "Function to take the length of the sides of triangle from user should be defined in the parent  class and function to calculate the area should be defined in subclass. \n",
    "\n"
   ]
  },
  {
   "cell_type": "code",
   "execution_count": 1,
   "metadata": {},
   "outputs": [],
   "source": [
    "# Parent Class that accepts the 3 sides of a triangle as user inputs.\n",
    "class Triangle:\n",
    "    \n",
    "    def __init__(self):\n",
    "        self.sidea = float(input('Enter first side: '))\n",
    "        self.sideb = float(input('Enter second side: '))\n",
    "        self.sidec = float(input('Enter third side: '))\n",
    "        \n",
    "\n",
    "# Child Class that inherits the Parent Class (Triangle).\n",
    "# This Class has function (area) that takes the values from the Triangle class and calculates the area of triangle.\n",
    "class Triangle_Area(Triangle):\n",
    "    \n",
    "    def area(self):\n",
    "        s = (self.sidea + self.sideb + self.sidec) / 2\n",
    "        area = (s*(s-self.sidea)*(s-self.sideb)*(s-self.sidec)) ** 0.5\n",
    "        return area"
   ]
  },
  {
   "cell_type": "code",
   "execution_count": 2,
   "metadata": {},
   "outputs": [
    {
     "name": "stdout",
     "output_type": "stream",
     "text": [
      "Enter first side: 2\n",
      "Enter second side: 3\n",
      "Enter third side: 4\n",
      "The area of the triangle is 2.90\n"
     ]
    }
   ],
   "source": [
    "# Creating an object of the Child class.\n",
    "ta = Triangle_Area()\n",
    "\n",
    "# Calculating the area of triangle using the function (area) in the Child Class.\n",
    "triangle_area = ta.area()\n",
    "\n",
    "print('The area of the triangle is %0.2f' %triangle_area)"
   ]
  },
  {
   "cell_type": "markdown",
   "metadata": {},
   "source": [
    "\n",
    "#### 1.2 Write a function filter_long_words() that takes a list of words and an integer n and returns  the list of words that are longer than n. \n",
    "\n"
   ]
  },
  {
   "cell_type": "code",
   "execution_count": 3,
   "metadata": {},
   "outputs": [],
   "source": [
    "# Function that takes the words list and the integer 'n'. \n",
    "# This function will return the list of words that are longer than n.\n",
    "\n",
    "def filter_long_words(wordslist, n):\n",
    "    words = [word for word in wordslist if(len(word)>=n)]\n",
    "    return words"
   ]
  },
  {
   "cell_type": "code",
   "execution_count": 4,
   "metadata": {},
   "outputs": [
    {
     "name": "stdout",
     "output_type": "stream",
     "text": [
      "Enter the words list as comma separated: a,ab,abc,abcd,abcde\n",
      "Enter the mininum characters to filter from the list of words: 3\n",
      "Words filtered out based on minimum length: ['abc', 'abcd', 'abcde']\n"
     ]
    }
   ],
   "source": [
    "# Capturing the words list as comma separated.\n",
    "words = input(\"Enter the words list as comma separated: \")\n",
    "list_of_words = words.split(\",\")\n",
    "\n",
    "# Capture the minimum characters from the user.\n",
    "n = int(input(\"Enter the mininum characters to filter from the list of words: \"))\n",
    "\n",
    "# Calling the function\n",
    "result = filter_long_words(list_of_words,n)\n",
    "print(\"Words filtered out based on minimum length:\",result)"
   ]
  },
  {
   "cell_type": "markdown",
   "metadata": {},
   "source": [
    "#### 2.1 Write a Python program using function concept that maps list of words into a list of integers  representing the lengths of the corresponding words.\n",
    "\n",
    "Hint: If a list [ ab,cde,erty] is passed on to the python function output should come as [2,3,4] Here 2,3 and 4 are the lengths of the words in the list. \n"
   ]
  },
  {
   "cell_type": "code",
   "execution_count": 5,
   "metadata": {},
   "outputs": [],
   "source": [
    "# Function to map the list of words into a list of integers\n",
    "\n",
    "def words_and_lengths(list_of_words):\n",
    "    return [len(word) for word in list_of_words]"
   ]
  },
  {
   "cell_type": "code",
   "execution_count": 6,
   "metadata": {},
   "outputs": [
    {
     "name": "stdout",
     "output_type": "stream",
     "text": [
      "List of length of the words:  [2, 3, 4]\n"
     ]
    }
   ],
   "source": [
    "# Calling the function 'words_and_lengths'\n",
    "\n",
    "list_of_words = ['ab','cde','erty']\n",
    "print(\"List of length of the words: \", words_and_lengths(list_of_words))"
   ]
  },
  {
   "cell_type": "markdown",
   "metadata": {},
   "source": [
    "\n",
    "#### 2.2 Write a Python function which takes a character (i.e. a string of length 1) and returns True if  it is a vowel, False otherwise. "
   ]
  },
  {
   "cell_type": "code",
   "execution_count": 7,
   "metadata": {},
   "outputs": [],
   "source": [
    "# Function to return True if a character is a Vowel\n",
    "\n",
    "def check_vowel(character):\n",
    "    if character in 'aeiou':\n",
    "        return True\n",
    "    else:\n",
    "        return False"
   ]
  },
  {
   "cell_type": "code",
   "execution_count": 8,
   "metadata": {},
   "outputs": [
    {
     "name": "stdout",
     "output_type": "stream",
     "text": [
      "Enter the character to check if it is a Vowel: a\n",
      "The character you entered is:  a\n",
      "Result is:  True\n"
     ]
    }
   ],
   "source": [
    "# Calling the function 'check_vowel'\n",
    "\n",
    "character = input('Enter the character to check if it is a Vowel: ')\n",
    "print('The character you entered is: ', character)\n",
    "print('Result is: ', check_vowel(character))"
   ]
  }
 ],
 "metadata": {
  "kernelspec": {
   "display_name": "Python 3",
   "language": "python",
   "name": "python3"
  },
  "language_info": {
   "codemirror_mode": {
    "name": "ipython",
    "version": 3
   },
   "file_extension": ".py",
   "mimetype": "text/x-python",
   "name": "python",
   "nbconvert_exporter": "python",
   "pygments_lexer": "ipython3",
   "version": "3.8.5"
  }
 },
 "nbformat": 4,
 "nbformat_minor": 4
}
